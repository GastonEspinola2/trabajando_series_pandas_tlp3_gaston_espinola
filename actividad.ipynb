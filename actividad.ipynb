{
 "cells": [
  {
   "cell_type": "markdown",
   "id": "498731c6",
   "metadata": {},
   "source": [
    "# Actividad - Trabajando con Series de Pandas.\n",
    "## Criterios de evaluación.\n",
    "\n",
    "* Se deben utilizar nombres de variables descriptivos y claros (Utilizar la nomeclatura correspondiente para los nombres de variables).\n",
    "* Comentarios claros y concisos que expliquen el propósito de cada sección del código.\n",
    "* Utilizar mensajes de commit **descriptivos**. (Puedes utilizar la extension CONVENTIONAL COMMIT de VS-CODE). \n",
    "* Entrega en tiempo y forma.\n",
    "* Todo el código desarrollado debe ser subido a un repositorio en GitHub (el nombre del repositorio de seguir la siguiente estructura: actividad_tlp3_nombre_apellido).\n",
    "* Para resolver las actividades se debe insertar casillas de codigo entre cada actividad del cuaderno de Jupyter\n",
    "\n",
    "### ¡Importante!\n",
    "**El incumplimiento de los criterios de evaluación restará puntos en la nota final del práctico!**"
   ]
  },
  {
   "cell_type": "markdown",
   "id": "b361a7b6",
   "metadata": {},
   "source": [
    "### **Actividad 1:** \n",
    "\n",
    "Crear Series desde diferentes estructuras.\n",
    "* Crea una Series con los números del 1 al 5\n",
    "* Crea una Series a partir de un diccionario con nombres de países como claves y sus capitales como valores."
   ]
  },
  {
   "cell_type": "code",
   "execution_count": 35,
   "id": "26009294",
   "metadata": {},
   "outputs": [
    {
     "name": "stdout",
     "output_type": "stream",
     "text": [
      "0    1\n",
      "1    2\n",
      "2    3\n",
      "3    4\n",
      "4    5\n",
      "dtype: int64\n",
      "-------------\n",
      "Argentina    Buenos Aires\n",
      "Peru                 Lima\n",
      "España          Barcelona\n",
      "Uruguay        Montevideo\n",
      "dtype: object\n"
     ]
    }
   ],
   "source": [
    "# todo:\n",
    "\n",
    "import pandas as pd\n",
    "\n",
    "nueva_serie = pd.Series(range(1,6))\n",
    "print(nueva_serie)\n",
    "print(\"-------------\")\n",
    "\n",
    "paises_capitales={\n",
    "    \"Argentina\": \"Buenos Aires\",\n",
    "    \"Peru\": \"Lima\",\n",
    "    \"España\": \"Barcelona\",\n",
    "    \"Uruguay\": \"Montevideo\"\n",
    "}\n",
    "\n",
    "serie_capitales = pd.Series(paises_capitales)\n",
    "print(serie_capitales)"
   ]
  },
  {
   "cell_type": "markdown",
   "id": "0c239195",
   "metadata": {},
   "source": [
    "### **Actividad 2:** \n",
    "Acceso y selección de elementos.\n",
    "* Usa una Series con tareas (que haceres cotidianos) de una semana\n",
    "* Accede a diferentes elementos a elección.\n",
    "* Cambia los valores de los dias pares.\n"
   ]
  },
  {
   "cell_type": "code",
   "execution_count": 36,
   "id": "3611d25a",
   "metadata": {},
   "outputs": [
    {
     "name": "stdout",
     "output_type": "stream",
     "text": [
      "Lunes         Comprar el pan\n",
      "Martes                  Leer\n",
      "Miercoles        Hacer tarea\n",
      "Jueves        Salir a correr\n",
      "Viernes             Estudiar\n",
      "Sabado               Cocinar\n",
      "Domingo      Hacer ejercicio\n",
      "dtype: object\n",
      "----------\n",
      "Tarea del lunes: Comprar el pan\n",
      "Tarea del domingo: Hacer ejercicio\n",
      "----------\n",
      "Lunes                 Comprar el pan\n",
      "Martes       Jugar League of legends\n",
      "Miercoles                Hacer tarea\n",
      "Jueves       Jugar League of legends\n",
      "Viernes                     Estudiar\n",
      "Sabado       Jugar League of legends\n",
      "Domingo              Hacer ejercicio\n",
      "dtype: object\n"
     ]
    }
   ],
   "source": [
    "# todo:\n",
    "\n",
    "tareas = pd.Series({\n",
    "    \"Lunes\": \"Comprar el pan\",\n",
    "    \"Martes\": \"Leer\",\n",
    "    \"Miercoles\": \"Hacer tarea\",\n",
    "    \"Jueves\": \"Salir a correr\",\n",
    "    \"Viernes\": \"Estudiar\",\n",
    "    \"Sabado\": \"Cocinar\",\n",
    "    \"Domingo\": \"Hacer ejercicio\"\n",
    "})\n",
    "\n",
    "print(tareas)\n",
    "print(\"----------\")\n",
    "\n",
    "print(\"Tarea del lunes:\", tareas[\"Lunes\"])\n",
    "print(\"Tarea del domingo:\", tareas[\"Domingo\"])\n",
    "print(\"----------\")\n",
    "\n",
    "dias_pares= [\"Martes\", \"Jueves\", \"Sabado\"]\n",
    "tareas[dias_pares] = \"Jugar League of legends\"\n",
    "print(tareas)\n"
   ]
  },
  {
   "cell_type": "markdown",
   "id": "70a24b97",
   "metadata": {},
   "source": [
    "### **Actividad 3:**\n",
    "Operaciones aritméticas. \n",
    "* Realiza las operaciones basicas con 2 series cuales quieran.\n",
    "* Eleva los valores de la primer serie a 3 potencias difetentes."
   ]
  },
  {
   "cell_type": "code",
   "execution_count": 37,
   "id": "a9c8ebc7",
   "metadata": {},
   "outputs": [
    {
     "name": "stdout",
     "output_type": "stream",
     "text": [
      "Suma: 0     7\n",
      "1     9\n",
      "2    11\n",
      "3    13\n",
      "4     6\n",
      "dtype: int64\n",
      "----------\n",
      "Resta: 0    5\n",
      "1    5\n",
      "2    5\n",
      "3    5\n",
      "4   -4\n",
      "dtype: int64\n",
      "----------\n",
      "Multiplicación: 0     6\n",
      "1    14\n",
      "2    24\n",
      "3    36\n",
      "4     5\n",
      "dtype: int64\n",
      "----------\n",
      "División: 0    0.166667\n",
      "1    0.285714\n",
      "2    0.375000\n",
      "3    0.444444\n",
      "4    5.000000\n",
      "dtype: float64\n"
     ]
    }
   ],
   "source": [
    "# todo:\n",
    "\n",
    "serie1 = pd.Series([1, 2, 3, 4, 5])\n",
    "serie2 = pd.Series([6, 7, 8, 9, 1])\n",
    "\n",
    "suma = serie1 + serie2\n",
    "resta = serie2 - serie1\n",
    "multiplicacion = serie1 * serie2\n",
    "division = serie1 / serie2\n",
    "\n",
    "print(\"Suma:\", suma)\n",
    "print(\"----------\")\n",
    "print(\"Resta:\", resta)\n",
    "print(\"----------\")\n",
    "print(\"Multiplicación:\", multiplicacion)\n",
    "print(\"----------\")\n",
    "print(\"División:\", division)"
   ]
  },
  {
   "cell_type": "code",
   "execution_count": 41,
   "id": "336ffbfd",
   "metadata": {},
   "outputs": [
    {
     "name": "stdout",
     "output_type": "stream",
     "text": [
      "Primera serie al cuadrado: 0     1\n",
      "1     4\n",
      "2     9\n",
      "3    16\n",
      "4    25\n",
      "dtype: int64\n",
      "----------\n",
      "Primera serie al cubo: 0      1\n",
      "1      8\n",
      "2     27\n",
      "3     64\n",
      "4    125\n",
      "dtype: int64\n",
      "----------\n",
      "Primera serie a la cuarta potencia: 0      1\n",
      "1     16\n",
      "2     81\n",
      "3    256\n",
      "4    625\n",
      "dtype: int64\n"
     ]
    }
   ],
   "source": [
    "potencia_dos = serie1 ** 2\n",
    "potencia_tres = serie1 ** 3\n",
    "potencia_cuatro = serie1 ** 4\n",
    "\n",
    "print(\"Primera serie al cuadrado:\",potencia_dos)\n",
    "print(\"----------\")\n",
    "print(\"Primera serie al cubo:\",potencia_tres)\n",
    "print(\"----------\")\n",
    "print(\"Primera serie a la cuarta potencia:\", potencia_cuatro)"
   ]
  },
  {
   "cell_type": "markdown",
   "id": "b8dac397",
   "metadata": {},
   "source": [
    "### **Actividad 4:** \n",
    "Filtrado con condiciones.\n",
    "* Crea una Series de edades de 10 personas.\n",
    "* Muestra solo a los mayores de 18.\n",
    "* Reemplaza a los menores por \"Menor de edad\"."
   ]
  },
  {
   "cell_type": "code",
   "execution_count": 52,
   "id": "b9db5c80",
   "metadata": {},
   "outputs": [
    {
     "name": "stdout",
     "output_type": "stream",
     "text": [
      "Personas mayores de edad:\n",
      "Persona 3     26\n",
      "Persona 4     19\n",
      "Persona 6     34\n",
      "Persona 8     29\n",
      "Persona 9     40\n",
      "Persona 10    52\n",
      "dtype: int64\n",
      "----------\n",
      "Persona 1     Menor de edad\n",
      "Persona 2     Menor de edad\n",
      "Persona 3                26\n",
      "Persona 4                19\n",
      "Persona 5     Menor de edad\n",
      "Persona 6                34\n",
      "Persona 7     Menor de edad\n",
      "Persona 8                29\n",
      "Persona 9                40\n",
      "Persona 10               52\n",
      "dtype: object\n"
     ]
    }
   ],
   "source": [
    "# todo:\n",
    "\n",
    "personas_edades = pd.Series({\n",
    "    \"Persona 1\": 10,\n",
    "    \"Persona 2\": 15,\n",
    "    \"Persona 3\": 26,\n",
    "    \"Persona 4\": 19,\n",
    "    \"Persona 5\": 9,\n",
    "    \"Persona 6\": 34,\n",
    "    \"Persona 7\": 12,\n",
    "    \"Persona 8\": 29,\n",
    "    \"Persona 9\": 40,\n",
    "    \"Persona 10\": 52,\n",
    "})\n",
    "\n",
    "mayores_edad = personas_edades[personas_edades > 18]\n",
    "print(f\"\"\"Personas mayores de edad:\n",
    "{mayores_edad}\"\"\")\n",
    "print(\"----------\")\n",
    "\n",
    "edades_modificadas = personas_edades.astype('object')\n",
    "edades_modificadas[edades_modificadas < 18] = \"Menor de edad\"\n",
    "print(edades_modificadas)"
   ]
  },
  {
   "cell_type": "markdown",
   "id": "8889d0f2",
   "metadata": {},
   "source": [
    "### Actividad 5:\n",
    "Estadísticas básicas.\n",
    "\n",
    "* Crea una Series con las notas de 10 estudiantes.\n",
    "* Calcula la media, mediana, desviación estándar y máximo.\n",
    "* Muestra cuántos estudiantes aprobaron si el mínimo para aprobar es 6.\n",
    "* Ordenar las notas de manera ascendente y descendente. "
   ]
  },
  {
   "cell_type": "code",
   "execution_count": null,
   "id": "bc0ec844",
   "metadata": {},
   "outputs": [],
   "source": [
    "\n",
    "# todo:\n"
   ]
  }
 ],
 "metadata": {
  "kernelspec": {
   "display_name": "env",
   "language": "python",
   "name": "python3"
  },
  "language_info": {
   "codemirror_mode": {
    "name": "ipython",
    "version": 3
   },
   "file_extension": ".py",
   "mimetype": "text/x-python",
   "name": "python",
   "nbconvert_exporter": "python",
   "pygments_lexer": "ipython3",
   "version": "3.13.2"
  }
 },
 "nbformat": 4,
 "nbformat_minor": 5
}
